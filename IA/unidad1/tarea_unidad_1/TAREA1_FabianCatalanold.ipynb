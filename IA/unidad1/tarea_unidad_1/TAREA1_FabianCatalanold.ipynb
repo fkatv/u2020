{
 "cells": [
  {
   "cell_type": "markdown",
   "metadata": {},
   "source": [
    "### Tarea Práctica - INFO257 Unidad 1\n",
    "#### Fabián Catalán Vejar\n"
   ]
  },
  {
   "cell_type": "code",
   "execution_count": 1,
   "metadata": {
    "scrolled": true
   },
   "outputs": [
    {
     "data": {
      "text/html": [
       "<div>\n",
       "<style scoped>\n",
       "    .dataframe tbody tr th:only-of-type {\n",
       "        vertical-align: middle;\n",
       "    }\n",
       "\n",
       "    .dataframe tbody tr th {\n",
       "        vertical-align: top;\n",
       "    }\n",
       "\n",
       "    .dataframe thead th {\n",
       "        text-align: right;\n",
       "    }\n",
       "</style>\n",
       "<table border=\"1\" class=\"dataframe\">\n",
       "  <thead>\n",
       "    <tr style=\"text-align: right;\">\n",
       "      <th></th>\n",
       "      <th>objid</th>\n",
       "      <th>ra</th>\n",
       "      <th>dec</th>\n",
       "      <th>u</th>\n",
       "      <th>g</th>\n",
       "      <th>r</th>\n",
       "      <th>i</th>\n",
       "      <th>z</th>\n",
       "      <th>run</th>\n",
       "      <th>rerun</th>\n",
       "      <th>camcol</th>\n",
       "      <th>field</th>\n",
       "      <th>specobjid</th>\n",
       "      <th>class</th>\n",
       "      <th>redshift</th>\n",
       "      <th>plate</th>\n",
       "      <th>mjd</th>\n",
       "      <th>fiberid</th>\n",
       "    </tr>\n",
       "  </thead>\n",
       "  <tbody>\n",
       "    <tr>\n",
       "      <th>0</th>\n",
       "      <td>1.237650e+18</td>\n",
       "      <td>183.531326</td>\n",
       "      <td>0.089693</td>\n",
       "      <td>19.47406</td>\n",
       "      <td>17.04240</td>\n",
       "      <td>15.94699</td>\n",
       "      <td>15.50342</td>\n",
       "      <td>15.22531</td>\n",
       "      <td>752</td>\n",
       "      <td>301</td>\n",
       "      <td>4</td>\n",
       "      <td>267</td>\n",
       "      <td>3.722360e+18</td>\n",
       "      <td>STAR</td>\n",
       "      <td>-0.000009</td>\n",
       "      <td>3306</td>\n",
       "      <td>54922</td>\n",
       "      <td>491</td>\n",
       "    </tr>\n",
       "    <tr>\n",
       "      <th>1</th>\n",
       "      <td>1.237650e+18</td>\n",
       "      <td>183.598371</td>\n",
       "      <td>0.135285</td>\n",
       "      <td>18.66280</td>\n",
       "      <td>17.21449</td>\n",
       "      <td>16.67637</td>\n",
       "      <td>16.48922</td>\n",
       "      <td>16.39150</td>\n",
       "      <td>752</td>\n",
       "      <td>301</td>\n",
       "      <td>4</td>\n",
       "      <td>267</td>\n",
       "      <td>3.638140e+17</td>\n",
       "      <td>STAR</td>\n",
       "      <td>-0.000055</td>\n",
       "      <td>323</td>\n",
       "      <td>51615</td>\n",
       "      <td>541</td>\n",
       "    </tr>\n",
       "    <tr>\n",
       "      <th>2</th>\n",
       "      <td>1.237650e+18</td>\n",
       "      <td>183.680207</td>\n",
       "      <td>0.126185</td>\n",
       "      <td>19.38298</td>\n",
       "      <td>18.19169</td>\n",
       "      <td>17.47428</td>\n",
       "      <td>17.08732</td>\n",
       "      <td>16.80125</td>\n",
       "      <td>752</td>\n",
       "      <td>301</td>\n",
       "      <td>4</td>\n",
       "      <td>268</td>\n",
       "      <td>3.232740e+17</td>\n",
       "      <td>GALAXY</td>\n",
       "      <td>0.123111</td>\n",
       "      <td>287</td>\n",
       "      <td>52023</td>\n",
       "      <td>513</td>\n",
       "    </tr>\n",
       "    <tr>\n",
       "      <th>3</th>\n",
       "      <td>1.237650e+18</td>\n",
       "      <td>183.870529</td>\n",
       "      <td>0.049911</td>\n",
       "      <td>17.76536</td>\n",
       "      <td>16.60272</td>\n",
       "      <td>16.16116</td>\n",
       "      <td>15.98233</td>\n",
       "      <td>15.90438</td>\n",
       "      <td>752</td>\n",
       "      <td>301</td>\n",
       "      <td>4</td>\n",
       "      <td>269</td>\n",
       "      <td>3.722370e+18</td>\n",
       "      <td>STAR</td>\n",
       "      <td>-0.000111</td>\n",
       "      <td>3306</td>\n",
       "      <td>54922</td>\n",
       "      <td>510</td>\n",
       "    </tr>\n",
       "    <tr>\n",
       "      <th>4</th>\n",
       "      <td>1.237650e+18</td>\n",
       "      <td>183.883288</td>\n",
       "      <td>0.102557</td>\n",
       "      <td>17.55025</td>\n",
       "      <td>16.26342</td>\n",
       "      <td>16.43869</td>\n",
       "      <td>16.55492</td>\n",
       "      <td>16.61326</td>\n",
       "      <td>752</td>\n",
       "      <td>301</td>\n",
       "      <td>4</td>\n",
       "      <td>269</td>\n",
       "      <td>3.722370e+18</td>\n",
       "      <td>STAR</td>\n",
       "      <td>0.000590</td>\n",
       "      <td>3306</td>\n",
       "      <td>54922</td>\n",
       "      <td>512</td>\n",
       "    </tr>\n",
       "    <tr>\n",
       "      <th>5</th>\n",
       "      <td>1.237650e+18</td>\n",
       "      <td>183.847174</td>\n",
       "      <td>0.173694</td>\n",
       "      <td>19.43133</td>\n",
       "      <td>18.46779</td>\n",
       "      <td>18.16451</td>\n",
       "      <td>18.01475</td>\n",
       "      <td>18.04155</td>\n",
       "      <td>752</td>\n",
       "      <td>301</td>\n",
       "      <td>4</td>\n",
       "      <td>269</td>\n",
       "      <td>3.649550e+17</td>\n",
       "      <td>STAR</td>\n",
       "      <td>0.000315</td>\n",
       "      <td>324</td>\n",
       "      <td>51666</td>\n",
       "      <td>594</td>\n",
       "    </tr>\n",
       "    <tr>\n",
       "      <th>6</th>\n",
       "      <td>1.237650e+18</td>\n",
       "      <td>183.864379</td>\n",
       "      <td>0.019201</td>\n",
       "      <td>19.38322</td>\n",
       "      <td>17.88995</td>\n",
       "      <td>17.10537</td>\n",
       "      <td>16.66393</td>\n",
       "      <td>16.36955</td>\n",
       "      <td>752</td>\n",
       "      <td>301</td>\n",
       "      <td>4</td>\n",
       "      <td>269</td>\n",
       "      <td>3.232870e+17</td>\n",
       "      <td>GALAXY</td>\n",
       "      <td>0.100242</td>\n",
       "      <td>287</td>\n",
       "      <td>52023</td>\n",
       "      <td>559</td>\n",
       "    </tr>\n",
       "    <tr>\n",
       "      <th>7</th>\n",
       "      <td>1.237650e+18</td>\n",
       "      <td>183.900081</td>\n",
       "      <td>0.187473</td>\n",
       "      <td>18.97993</td>\n",
       "      <td>17.84496</td>\n",
       "      <td>17.38022</td>\n",
       "      <td>17.20673</td>\n",
       "      <td>17.07071</td>\n",
       "      <td>752</td>\n",
       "      <td>301</td>\n",
       "      <td>4</td>\n",
       "      <td>269</td>\n",
       "      <td>3.722370e+18</td>\n",
       "      <td>STAR</td>\n",
       "      <td>0.000315</td>\n",
       "      <td>3306</td>\n",
       "      <td>54922</td>\n",
       "      <td>515</td>\n",
       "    </tr>\n",
       "    <tr>\n",
       "      <th>8</th>\n",
       "      <td>1.237650e+18</td>\n",
       "      <td>183.924588</td>\n",
       "      <td>0.097246</td>\n",
       "      <td>17.90616</td>\n",
       "      <td>16.97172</td>\n",
       "      <td>16.67541</td>\n",
       "      <td>16.53776</td>\n",
       "      <td>16.47596</td>\n",
       "      <td>752</td>\n",
       "      <td>301</td>\n",
       "      <td>4</td>\n",
       "      <td>270</td>\n",
       "      <td>3.638290e+17</td>\n",
       "      <td>STAR</td>\n",
       "      <td>0.000089</td>\n",
       "      <td>323</td>\n",
       "      <td>51615</td>\n",
       "      <td>595</td>\n",
       "    </tr>\n",
       "    <tr>\n",
       "      <th>9</th>\n",
       "      <td>1.237650e+18</td>\n",
       "      <td>183.973498</td>\n",
       "      <td>0.081626</td>\n",
       "      <td>18.67249</td>\n",
       "      <td>17.71375</td>\n",
       "      <td>17.49362</td>\n",
       "      <td>17.28284</td>\n",
       "      <td>17.22644</td>\n",
       "      <td>752</td>\n",
       "      <td>301</td>\n",
       "      <td>4</td>\n",
       "      <td>270</td>\n",
       "      <td>3.243690e+17</td>\n",
       "      <td>GALAXY</td>\n",
       "      <td>0.040508</td>\n",
       "      <td>288</td>\n",
       "      <td>52000</td>\n",
       "      <td>400</td>\n",
       "    </tr>\n",
       "  </tbody>\n",
       "</table>\n",
       "</div>"
      ],
      "text/plain": [
       "          objid          ra       dec         u         g         r         i  \\\n",
       "0  1.237650e+18  183.531326  0.089693  19.47406  17.04240  15.94699  15.50342   \n",
       "1  1.237650e+18  183.598371  0.135285  18.66280  17.21449  16.67637  16.48922   \n",
       "2  1.237650e+18  183.680207  0.126185  19.38298  18.19169  17.47428  17.08732   \n",
       "3  1.237650e+18  183.870529  0.049911  17.76536  16.60272  16.16116  15.98233   \n",
       "4  1.237650e+18  183.883288  0.102557  17.55025  16.26342  16.43869  16.55492   \n",
       "5  1.237650e+18  183.847174  0.173694  19.43133  18.46779  18.16451  18.01475   \n",
       "6  1.237650e+18  183.864379  0.019201  19.38322  17.88995  17.10537  16.66393   \n",
       "7  1.237650e+18  183.900081  0.187473  18.97993  17.84496  17.38022  17.20673   \n",
       "8  1.237650e+18  183.924588  0.097246  17.90616  16.97172  16.67541  16.53776   \n",
       "9  1.237650e+18  183.973498  0.081626  18.67249  17.71375  17.49362  17.28284   \n",
       "\n",
       "          z  run  rerun  camcol  field     specobjid   class  redshift  plate  \\\n",
       "0  15.22531  752    301       4    267  3.722360e+18    STAR -0.000009   3306   \n",
       "1  16.39150  752    301       4    267  3.638140e+17    STAR -0.000055    323   \n",
       "2  16.80125  752    301       4    268  3.232740e+17  GALAXY  0.123111    287   \n",
       "3  15.90438  752    301       4    269  3.722370e+18    STAR -0.000111   3306   \n",
       "4  16.61326  752    301       4    269  3.722370e+18    STAR  0.000590   3306   \n",
       "5  18.04155  752    301       4    269  3.649550e+17    STAR  0.000315    324   \n",
       "6  16.36955  752    301       4    269  3.232870e+17  GALAXY  0.100242    287   \n",
       "7  17.07071  752    301       4    269  3.722370e+18    STAR  0.000315   3306   \n",
       "8  16.47596  752    301       4    270  3.638290e+17    STAR  0.000089    323   \n",
       "9  17.22644  752    301       4    270  3.243690e+17  GALAXY  0.040508    288   \n",
       "\n",
       "     mjd  fiberid  \n",
       "0  54922      491  \n",
       "1  51615      541  \n",
       "2  52023      513  \n",
       "3  54922      510  \n",
       "4  54922      512  \n",
       "5  51666      594  \n",
       "6  52023      559  \n",
       "7  54922      515  \n",
       "8  51615      595  \n",
       "9  52000      400  "
      ]
     },
     "execution_count": 1,
     "metadata": {},
     "output_type": "execute_result"
    }
   ],
   "source": [
    "import pandas as pd\n",
    "import numpy as np\n",
    "import warnings\n",
    "warnings.filterwarnings('ignore')\n",
    "\n",
    "import numpy as np\n",
    "import pandas as pd\n",
    "import seaborn as sb\n",
    "import matplotlib.pyplot as plt\n",
    "import sklearn\n",
    "\n",
    "from pandas import Series, DataFrame\n",
    "from pylab import rcParams\n",
    "from sklearn import preprocessing\n",
    "from sklearn.linear_model import LogisticRegression\n",
    "from sklearn.model_selection import train_test_split\n",
    "from sklearn import metrics \n",
    "from sklearn.metrics import classification_report\n",
    "\n",
    "df = pd.read_csv(\"SDSS-DR14.csv\")\n",
    "df[:10]"
   ]
  },
  {
   "cell_type": "markdown",
   "metadata": {},
   "source": [
    "Cambiamos de posición la columna **class** al final para un mejor manejo y convertimos sus datos a variables dummy"
   ]
  },
  {
   "cell_type": "code",
   "execution_count": 2,
   "metadata": {},
   "outputs": [],
   "source": [
    "# df.isnull().sum() # no hay nulos\n",
    "# df.info() # 10000 valores no nulos.\n",
    "cl = df['class']\n",
    "clase = pd.get_dummies(cl)\n",
    "df = df.drop( ['class', 'objid'] ,1)\n",
    "#df = pd.concat([df,clase],axis=1)\n",
    "#df.head()"
   ]
  },
  {
   "cell_type": "markdown",
   "metadata": {},
   "source": [
    "Veremos cuánto peso tiene cada resultado."
   ]
  },
  {
   "cell_type": "code",
   "execution_count": 3,
   "metadata": {},
   "outputs": [
    {
     "name": "stdout",
     "output_type": "stream",
     "text": [
      "GALAXY suma: 4998\n",
      "QSO suma: 850\n",
      "STAR suma: 4152\n"
     ]
    }
   ],
   "source": [
    "print('GALAXY suma: ' + str(np.sum(clase['GALAXY'])))\n",
    "print('QSO suma: ' + str(np.sum(clase['QSO'])))\n",
    "print('STAR suma: ' + str(np.sum(clase['STAR'])))"
   ]
  },
  {
   "cell_type": "markdown",
   "metadata": {},
   "source": [
    "Se hará una estrategia: Si class es **GALAXY = 1**, **QSO = 2**, **STAR = 3**"
   ]
  },
  {
   "cell_type": "code",
   "execution_count": 4,
   "metadata": {
    "scrolled": true
   },
   "outputs": [
    {
     "data": {
      "text/plain": [
       "0    3\n",
       "1    3\n",
       "2    1\n",
       "3    3\n",
       "4    3\n",
       "Name: class, dtype: int64"
      ]
     },
     "execution_count": 4,
     "metadata": {},
     "output_type": "execute_result"
    }
   ],
   "source": [
    "cl = cl.apply(lambda x: {\n",
    "        'GALAXY': 1,\n",
    "        'QSO': 2,\n",
    "        'STAR': 3\n",
    "    }[x])\n",
    "cl.head()"
   ]
  },
  {
   "cell_type": "code",
   "execution_count": 5,
   "metadata": {},
   "outputs": [
    {
     "data": {
      "text/html": [
       "<div>\n",
       "<style scoped>\n",
       "    .dataframe tbody tr th:only-of-type {\n",
       "        vertical-align: middle;\n",
       "    }\n",
       "\n",
       "    .dataframe tbody tr th {\n",
       "        vertical-align: top;\n",
       "    }\n",
       "\n",
       "    .dataframe thead th {\n",
       "        text-align: right;\n",
       "    }\n",
       "</style>\n",
       "<table border=\"1\" class=\"dataframe\">\n",
       "  <thead>\n",
       "    <tr style=\"text-align: right;\">\n",
       "      <th></th>\n",
       "      <th>ra</th>\n",
       "      <th>dec</th>\n",
       "      <th>u</th>\n",
       "      <th>g</th>\n",
       "      <th>r</th>\n",
       "      <th>i</th>\n",
       "      <th>z</th>\n",
       "      <th>run</th>\n",
       "      <th>rerun</th>\n",
       "      <th>camcol</th>\n",
       "      <th>field</th>\n",
       "      <th>specobjid</th>\n",
       "      <th>redshift</th>\n",
       "      <th>plate</th>\n",
       "      <th>mjd</th>\n",
       "      <th>fiberid</th>\n",
       "      <th>class</th>\n",
       "    </tr>\n",
       "  </thead>\n",
       "  <tbody>\n",
       "    <tr>\n",
       "      <th>0</th>\n",
       "      <td>183.531326</td>\n",
       "      <td>0.089693</td>\n",
       "      <td>19.47406</td>\n",
       "      <td>17.04240</td>\n",
       "      <td>15.94699</td>\n",
       "      <td>15.50342</td>\n",
       "      <td>15.22531</td>\n",
       "      <td>752</td>\n",
       "      <td>301</td>\n",
       "      <td>4</td>\n",
       "      <td>267</td>\n",
       "      <td>3.722360e+18</td>\n",
       "      <td>-0.000009</td>\n",
       "      <td>3306</td>\n",
       "      <td>54922</td>\n",
       "      <td>491</td>\n",
       "      <td>3</td>\n",
       "    </tr>\n",
       "    <tr>\n",
       "      <th>1</th>\n",
       "      <td>183.598371</td>\n",
       "      <td>0.135285</td>\n",
       "      <td>18.66280</td>\n",
       "      <td>17.21449</td>\n",
       "      <td>16.67637</td>\n",
       "      <td>16.48922</td>\n",
       "      <td>16.39150</td>\n",
       "      <td>752</td>\n",
       "      <td>301</td>\n",
       "      <td>4</td>\n",
       "      <td>267</td>\n",
       "      <td>3.638140e+17</td>\n",
       "      <td>-0.000055</td>\n",
       "      <td>323</td>\n",
       "      <td>51615</td>\n",
       "      <td>541</td>\n",
       "      <td>3</td>\n",
       "    </tr>\n",
       "    <tr>\n",
       "      <th>2</th>\n",
       "      <td>183.680207</td>\n",
       "      <td>0.126185</td>\n",
       "      <td>19.38298</td>\n",
       "      <td>18.19169</td>\n",
       "      <td>17.47428</td>\n",
       "      <td>17.08732</td>\n",
       "      <td>16.80125</td>\n",
       "      <td>752</td>\n",
       "      <td>301</td>\n",
       "      <td>4</td>\n",
       "      <td>268</td>\n",
       "      <td>3.232740e+17</td>\n",
       "      <td>0.123111</td>\n",
       "      <td>287</td>\n",
       "      <td>52023</td>\n",
       "      <td>513</td>\n",
       "      <td>1</td>\n",
       "    </tr>\n",
       "    <tr>\n",
       "      <th>3</th>\n",
       "      <td>183.870529</td>\n",
       "      <td>0.049911</td>\n",
       "      <td>17.76536</td>\n",
       "      <td>16.60272</td>\n",
       "      <td>16.16116</td>\n",
       "      <td>15.98233</td>\n",
       "      <td>15.90438</td>\n",
       "      <td>752</td>\n",
       "      <td>301</td>\n",
       "      <td>4</td>\n",
       "      <td>269</td>\n",
       "      <td>3.722370e+18</td>\n",
       "      <td>-0.000111</td>\n",
       "      <td>3306</td>\n",
       "      <td>54922</td>\n",
       "      <td>510</td>\n",
       "      <td>3</td>\n",
       "    </tr>\n",
       "    <tr>\n",
       "      <th>4</th>\n",
       "      <td>183.883288</td>\n",
       "      <td>0.102557</td>\n",
       "      <td>17.55025</td>\n",
       "      <td>16.26342</td>\n",
       "      <td>16.43869</td>\n",
       "      <td>16.55492</td>\n",
       "      <td>16.61326</td>\n",
       "      <td>752</td>\n",
       "      <td>301</td>\n",
       "      <td>4</td>\n",
       "      <td>269</td>\n",
       "      <td>3.722370e+18</td>\n",
       "      <td>0.000590</td>\n",
       "      <td>3306</td>\n",
       "      <td>54922</td>\n",
       "      <td>512</td>\n",
       "      <td>3</td>\n",
       "    </tr>\n",
       "    <tr>\n",
       "      <th>5</th>\n",
       "      <td>183.847174</td>\n",
       "      <td>0.173694</td>\n",
       "      <td>19.43133</td>\n",
       "      <td>18.46779</td>\n",
       "      <td>18.16451</td>\n",
       "      <td>18.01475</td>\n",
       "      <td>18.04155</td>\n",
       "      <td>752</td>\n",
       "      <td>301</td>\n",
       "      <td>4</td>\n",
       "      <td>269</td>\n",
       "      <td>3.649550e+17</td>\n",
       "      <td>0.000315</td>\n",
       "      <td>324</td>\n",
       "      <td>51666</td>\n",
       "      <td>594</td>\n",
       "      <td>3</td>\n",
       "    </tr>\n",
       "    <tr>\n",
       "      <th>6</th>\n",
       "      <td>183.864379</td>\n",
       "      <td>0.019201</td>\n",
       "      <td>19.38322</td>\n",
       "      <td>17.88995</td>\n",
       "      <td>17.10537</td>\n",
       "      <td>16.66393</td>\n",
       "      <td>16.36955</td>\n",
       "      <td>752</td>\n",
       "      <td>301</td>\n",
       "      <td>4</td>\n",
       "      <td>269</td>\n",
       "      <td>3.232870e+17</td>\n",
       "      <td>0.100242</td>\n",
       "      <td>287</td>\n",
       "      <td>52023</td>\n",
       "      <td>559</td>\n",
       "      <td>1</td>\n",
       "    </tr>\n",
       "    <tr>\n",
       "      <th>7</th>\n",
       "      <td>183.900081</td>\n",
       "      <td>0.187473</td>\n",
       "      <td>18.97993</td>\n",
       "      <td>17.84496</td>\n",
       "      <td>17.38022</td>\n",
       "      <td>17.20673</td>\n",
       "      <td>17.07071</td>\n",
       "      <td>752</td>\n",
       "      <td>301</td>\n",
       "      <td>4</td>\n",
       "      <td>269</td>\n",
       "      <td>3.722370e+18</td>\n",
       "      <td>0.000315</td>\n",
       "      <td>3306</td>\n",
       "      <td>54922</td>\n",
       "      <td>515</td>\n",
       "      <td>3</td>\n",
       "    </tr>\n",
       "    <tr>\n",
       "      <th>8</th>\n",
       "      <td>183.924588</td>\n",
       "      <td>0.097246</td>\n",
       "      <td>17.90616</td>\n",
       "      <td>16.97172</td>\n",
       "      <td>16.67541</td>\n",
       "      <td>16.53776</td>\n",
       "      <td>16.47596</td>\n",
       "      <td>752</td>\n",
       "      <td>301</td>\n",
       "      <td>4</td>\n",
       "      <td>270</td>\n",
       "      <td>3.638290e+17</td>\n",
       "      <td>0.000089</td>\n",
       "      <td>323</td>\n",
       "      <td>51615</td>\n",
       "      <td>595</td>\n",
       "      <td>3</td>\n",
       "    </tr>\n",
       "    <tr>\n",
       "      <th>9</th>\n",
       "      <td>183.973498</td>\n",
       "      <td>0.081626</td>\n",
       "      <td>18.67249</td>\n",
       "      <td>17.71375</td>\n",
       "      <td>17.49362</td>\n",
       "      <td>17.28284</td>\n",
       "      <td>17.22644</td>\n",
       "      <td>752</td>\n",
       "      <td>301</td>\n",
       "      <td>4</td>\n",
       "      <td>270</td>\n",
       "      <td>3.243690e+17</td>\n",
       "      <td>0.040508</td>\n",
       "      <td>288</td>\n",
       "      <td>52000</td>\n",
       "      <td>400</td>\n",
       "      <td>1</td>\n",
       "    </tr>\n",
       "  </tbody>\n",
       "</table>\n",
       "</div>"
      ],
      "text/plain": [
       "           ra       dec         u         g         r         i         z  \\\n",
       "0  183.531326  0.089693  19.47406  17.04240  15.94699  15.50342  15.22531   \n",
       "1  183.598371  0.135285  18.66280  17.21449  16.67637  16.48922  16.39150   \n",
       "2  183.680207  0.126185  19.38298  18.19169  17.47428  17.08732  16.80125   \n",
       "3  183.870529  0.049911  17.76536  16.60272  16.16116  15.98233  15.90438   \n",
       "4  183.883288  0.102557  17.55025  16.26342  16.43869  16.55492  16.61326   \n",
       "5  183.847174  0.173694  19.43133  18.46779  18.16451  18.01475  18.04155   \n",
       "6  183.864379  0.019201  19.38322  17.88995  17.10537  16.66393  16.36955   \n",
       "7  183.900081  0.187473  18.97993  17.84496  17.38022  17.20673  17.07071   \n",
       "8  183.924588  0.097246  17.90616  16.97172  16.67541  16.53776  16.47596   \n",
       "9  183.973498  0.081626  18.67249  17.71375  17.49362  17.28284  17.22644   \n",
       "\n",
       "   run  rerun  camcol  field     specobjid  redshift  plate    mjd  fiberid  \\\n",
       "0  752    301       4    267  3.722360e+18 -0.000009   3306  54922      491   \n",
       "1  752    301       4    267  3.638140e+17 -0.000055    323  51615      541   \n",
       "2  752    301       4    268  3.232740e+17  0.123111    287  52023      513   \n",
       "3  752    301       4    269  3.722370e+18 -0.000111   3306  54922      510   \n",
       "4  752    301       4    269  3.722370e+18  0.000590   3306  54922      512   \n",
       "5  752    301       4    269  3.649550e+17  0.000315    324  51666      594   \n",
       "6  752    301       4    269  3.232870e+17  0.100242    287  52023      559   \n",
       "7  752    301       4    269  3.722370e+18  0.000315   3306  54922      515   \n",
       "8  752    301       4    270  3.638290e+17  0.000089    323  51615      595   \n",
       "9  752    301       4    270  3.243690e+17  0.040508    288  52000      400   \n",
       "\n",
       "   class  \n",
       "0      3  \n",
       "1      3  \n",
       "2      1  \n",
       "3      3  \n",
       "4      3  \n",
       "5      3  \n",
       "6      1  \n",
       "7      3  \n",
       "8      3  \n",
       "9      1  "
      ]
     },
     "execution_count": 5,
     "metadata": {},
     "output_type": "execute_result"
    }
   ],
   "source": [
    "#Concatenamos al dataframe \n",
    "df = pd.concat([df, cl],1)\n",
    "df[:10]"
   ]
  },
  {
   "cell_type": "markdown",
   "metadata": {},
   "source": [
    "Se empleará en primera instancia una relación entre variables, Notamos que podría existir desbalance en los datos. "
   ]
  },
  {
   "cell_type": "code",
   "execution_count": 6,
   "metadata": {
    "scrolled": true
   },
   "outputs": [
    {
     "data": {
      "text/plain": [
       "<matplotlib.axes._subplots.AxesSubplot at 0x7f311a997510>"
      ]
     },
     "execution_count": 6,
     "metadata": {},
     "output_type": "execute_result"
    },
    {
     "data": {
      "image/png": "[encoded data removed]",
      "text/plain": [
       "<Figure size 432x288 with 2 Axes>"
      ]
     },
     "metadata": {
      "needs_background": "light"
     },
     "output_type": "display_data"
    }
   ],
   "source": [
    "sb.heatmap(df.corr())"
   ]
  },
  {
   "cell_type": "markdown",
   "metadata": {},
   "source": [
    "Notamos que la variable **rerun** es constante, por lo tanto se elimina. Se ploteará una segunda vez"
   ]
  },
  {
   "cell_type": "code",
   "execution_count": 7,
   "metadata": {},
   "outputs": [],
   "source": [
    "df = df.drop(['rerun'],1)"
   ]
  },
  {
   "cell_type": "code",
   "execution_count": 8,
   "metadata": {},
   "outputs": [
    {
     "data": {
      "text/plain": [
       "<matplotlib.axes._subplots.AxesSubplot at 0x7f31160d36d0>"
      ]
     },
     "execution_count": 8,
     "metadata": {},
     "output_type": "execute_result"
    },
    {
     "data": {
      "image/png": "[encoded data removed]",
      "text/plain": [
       "<Figure size 432x288 with 2 Axes>"
      ]
     },
     "metadata": {
      "needs_background": "light"
     },
     "output_type": "display_data"
    }
   ],
   "source": [
    "sb.heatmap(df.corr())"
   ]
  },
  {
   "cell_type": "markdown",
   "metadata": {},
   "source": [
    "   Notamos que existen variables con correlación negativa, por lo tanto eliminaremos: **run, field.** Se obvian las variables de clasificación de clase"
   ]
  },
  {
   "cell_type": "code",
   "execution_count": 9,
   "metadata": {
    "scrolled": false
   },
   "outputs": [
    {
     "data": {
      "text/plain": [
       "<matplotlib.axes._subplots.AxesSubplot at 0x7f3115f65b90>"
      ]
     },
     "execution_count": 9,
     "metadata": {},
     "output_type": "execute_result"
    },
    {
     "data": {
      "image/png": "[encoded data removed]",
      "text/plain": [
       "<Figure size 432x288 with 2 Axes>"
      ]
     },
     "metadata": {
      "needs_background": "light"
     },
     "output_type": "display_data"
    }
   ],
   "source": [
    "df_corr1 = df\n",
    "df_corr1 = df.drop(['run'],1)\n",
    "sb.heatmap(df_corr1.corr())"
   ]
  },
  {
   "cell_type": "markdown",
   "metadata": {},
   "source": [
    "Notamos que después de eliminar las variables, se nos originan mas correlaciones negativas. Se empleará una estrategia: guardar este dataframe como df_corr1 y crear uno nuevo a sin las correlaciones negativas como df_corr2"
   ]
  },
  {
   "cell_type": "code",
   "execution_count": 10,
   "metadata": {},
   "outputs": [
    {
     "data": {
      "text/plain": [
       "<matplotlib.axes._subplots.AxesSubplot at 0x7f3115e9cf50>"
      ]
     },
     "execution_count": 10,
     "metadata": {},
     "output_type": "execute_result"
    },
    {
     "data": {
      "image/png": "[encoded data removed]",
      "text/plain": [
       "<Figure size 432x288 with 2 Axes>"
      ]
     },
     "metadata": {
      "needs_background": "light"
     },
     "output_type": "display_data"
    }
   ],
   "source": [
    "df_corr2 = df_corr1.drop(['u','g','ra', 'ra'],1)\n",
    "sb.heatmap(df_corr2.corr())"
   ]
  },
  {
   "cell_type": "code",
   "execution_count": 11,
   "metadata": {
    "scrolled": true
   },
   "outputs": [
    {
     "data": {
      "text/html": [
       "<div>\n",
       "<style scoped>\n",
       "    .dataframe tbody tr th:only-of-type {\n",
       "        vertical-align: middle;\n",
       "    }\n",
       "\n",
       "    .dataframe tbody tr th {\n",
       "        vertical-align: top;\n",
       "    }\n",
       "\n",
       "    .dataframe thead th {\n",
       "        text-align: right;\n",
       "    }\n",
       "</style>\n",
       "<table border=\"1\" class=\"dataframe\">\n",
       "  <thead>\n",
       "    <tr style=\"text-align: right;\">\n",
       "      <th></th>\n",
       "      <th>dec</th>\n",
       "      <th>r</th>\n",
       "      <th>i</th>\n",
       "      <th>z</th>\n",
       "      <th>camcol</th>\n",
       "      <th>field</th>\n",
       "      <th>specobjid</th>\n",
       "      <th>redshift</th>\n",
       "      <th>plate</th>\n",
       "      <th>mjd</th>\n",
       "      <th>fiberid</th>\n",
       "      <th>class</th>\n",
       "    </tr>\n",
       "  </thead>\n",
       "  <tbody>\n",
       "    <tr>\n",
       "      <th>0</th>\n",
       "      <td>0.089693</td>\n",
       "      <td>15.94699</td>\n",
       "      <td>15.50342</td>\n",
       "      <td>15.22531</td>\n",
       "      <td>4</td>\n",
       "      <td>267</td>\n",
       "      <td>3.722360e+18</td>\n",
       "      <td>-0.000009</td>\n",
       "      <td>3306</td>\n",
       "      <td>54922</td>\n",
       "      <td>491</td>\n",
       "      <td>3</td>\n",
       "    </tr>\n",
       "    <tr>\n",
       "      <th>1</th>\n",
       "      <td>0.135285</td>\n",
       "      <td>16.67637</td>\n",
       "      <td>16.48922</td>\n",
       "      <td>16.39150</td>\n",
       "      <td>4</td>\n",
       "      <td>267</td>\n",
       "      <td>3.638140e+17</td>\n",
       "      <td>-0.000055</td>\n",
       "      <td>323</td>\n",
       "      <td>51615</td>\n",
       "      <td>541</td>\n",
       "      <td>3</td>\n",
       "    </tr>\n",
       "    <tr>\n",
       "      <th>2</th>\n",
       "      <td>0.126185</td>\n",
       "      <td>17.47428</td>\n",
       "      <td>17.08732</td>\n",
       "      <td>16.80125</td>\n",
       "      <td>4</td>\n",
       "      <td>268</td>\n",
       "      <td>3.232740e+17</td>\n",
       "      <td>0.123111</td>\n",
       "      <td>287</td>\n",
       "      <td>52023</td>\n",
       "      <td>513</td>\n",
       "      <td>1</td>\n",
       "    </tr>\n",
       "    <tr>\n",
       "      <th>3</th>\n",
       "      <td>0.049911</td>\n",
       "      <td>16.16116</td>\n",
       "      <td>15.98233</td>\n",
       "      <td>15.90438</td>\n",
       "      <td>4</td>\n",
       "      <td>269</td>\n",
       "      <td>3.722370e+18</td>\n",
       "      <td>-0.000111</td>\n",
       "      <td>3306</td>\n",
       "      <td>54922</td>\n",
       "      <td>510</td>\n",
       "      <td>3</td>\n",
       "    </tr>\n",
       "    <tr>\n",
       "      <th>4</th>\n",
       "      <td>0.102557</td>\n",
       "      <td>16.43869</td>\n",
       "      <td>16.55492</td>\n",
       "      <td>16.61326</td>\n",
       "      <td>4</td>\n",
       "      <td>269</td>\n",
       "      <td>3.722370e+18</td>\n",
       "      <td>0.000590</td>\n",
       "      <td>3306</td>\n",
       "      <td>54922</td>\n",
       "      <td>512</td>\n",
       "      <td>3</td>\n",
       "    </tr>\n",
       "  </tbody>\n",
       "</table>\n",
       "</div>"
      ],
      "text/plain": [
       "        dec         r         i         z  camcol  field     specobjid  \\\n",
       "0  0.089693  15.94699  15.50342  15.22531       4    267  3.722360e+18   \n",
       "1  0.135285  16.67637  16.48922  16.39150       4    267  3.638140e+17   \n",
       "2  0.126185  17.47428  17.08732  16.80125       4    268  3.232740e+17   \n",
       "3  0.049911  16.16116  15.98233  15.90438       4    269  3.722370e+18   \n",
       "4  0.102557  16.43869  16.55492  16.61326       4    269  3.722370e+18   \n",
       "\n",
       "   redshift  plate    mjd  fiberid  class  \n",
       "0 -0.000009   3306  54922      491      3  \n",
       "1 -0.000055    323  51615      541      3  \n",
       "2  0.123111    287  52023      513      1  \n",
       "3 -0.000111   3306  54922      510      3  \n",
       "4  0.000590   3306  54922      512      3  "
      ]
     },
     "execution_count": 11,
     "metadata": {},
     "output_type": "execute_result"
    }
   ],
   "source": [
    "df_corr2.head()"
   ]
  },
  {
   "cell_type": "markdown",
   "metadata": {},
   "source": [
    "### OJO!\n",
    "Vemos que la correlación empeora!, entonces vamos a trabajar con el dataframe con las clases cambiadas(df) y con df_corr1.\n",
    "\n",
    "Partimos con df"
   ]
  },
  {
   "cell_type": "code",
   "execution_count": 12,
   "metadata": {
    "scrolled": true
   },
   "outputs": [
    {
     "data": {
      "text/plain": [
       "<matplotlib.axes._subplots.AxesSubplot at 0x7f3115e167d0>"
      ]
     },
     "execution_count": 12,
     "metadata": {},
     "output_type": "execute_result"
    },
    {
     "data": {
      "image/png": "[encoded data removed]",
      "text/plain": [
       "<Figure size 432x288 with 2 Axes>"
      ]
     },
     "metadata": {
      "needs_background": "light"
     },
     "output_type": "display_data"
    }
   ],
   "source": [
    "sb.heatmap(df.corr())"
   ]
  },
  {
   "cell_type": "markdown",
   "metadata": {},
   "source": [
    "Se definen variables dependientes X que corresponden a los datos de las columnas 1 a 16 y la última corresponde a la variable independiente."
   ]
  },
  {
   "cell_type": "code",
   "execution_count": 13,
   "metadata": {},
   "outputs": [
    {
     "data": {
      "text/html": [
       "<div>\n",
       "<style scoped>\n",
       "    .dataframe tbody tr th:only-of-type {\n",
       "        vertical-align: middle;\n",
       "    }\n",
       "\n",
       "    .dataframe tbody tr th {\n",
       "        vertical-align: top;\n",
       "    }\n",
       "\n",
       "    .dataframe thead th {\n",
       "        text-align: right;\n",
       "    }\n",
       "</style>\n",
       "<table border=\"1\" class=\"dataframe\">\n",
       "  <thead>\n",
       "    <tr style=\"text-align: right;\">\n",
       "      <th></th>\n",
       "      <th>ra</th>\n",
       "      <th>dec</th>\n",
       "      <th>u</th>\n",
       "      <th>g</th>\n",
       "      <th>r</th>\n",
       "      <th>i</th>\n",
       "      <th>z</th>\n",
       "      <th>run</th>\n",
       "      <th>camcol</th>\n",
       "      <th>field</th>\n",
       "      <th>specobjid</th>\n",
       "      <th>redshift</th>\n",
       "      <th>plate</th>\n",
       "      <th>mjd</th>\n",
       "      <th>fiberid</th>\n",
       "      <th>class</th>\n",
       "    </tr>\n",
       "  </thead>\n",
       "  <tbody>\n",
       "    <tr>\n",
       "      <th>0</th>\n",
       "      <td>183.531326</td>\n",
       "      <td>0.089693</td>\n",
       "      <td>19.47406</td>\n",
       "      <td>17.04240</td>\n",
       "      <td>15.94699</td>\n",
       "      <td>15.50342</td>\n",
       "      <td>15.22531</td>\n",
       "      <td>752</td>\n",
       "      <td>4</td>\n",
       "      <td>267</td>\n",
       "      <td>3.722360e+18</td>\n",
       "      <td>-0.000009</td>\n",
       "      <td>3306</td>\n",
       "      <td>54922</td>\n",
       "      <td>491</td>\n",
       "      <td>3</td>\n",
       "    </tr>\n",
       "    <tr>\n",
       "      <th>1</th>\n",
       "      <td>183.598371</td>\n",
       "      <td>0.135285</td>\n",
       "      <td>18.66280</td>\n",
       "      <td>17.21449</td>\n",
       "      <td>16.67637</td>\n",
       "      <td>16.48922</td>\n",
       "      <td>16.39150</td>\n",
       "      <td>752</td>\n",
       "      <td>4</td>\n",
       "      <td>267</td>\n",
       "      <td>3.638140e+17</td>\n",
       "      <td>-0.000055</td>\n",
       "      <td>323</td>\n",
       "      <td>51615</td>\n",
       "      <td>541</td>\n",
       "      <td>3</td>\n",
       "    </tr>\n",
       "    <tr>\n",
       "      <th>2</th>\n",
       "      <td>183.680207</td>\n",
       "      <td>0.126185</td>\n",
       "      <td>19.38298</td>\n",
       "      <td>18.19169</td>\n",
       "      <td>17.47428</td>\n",
       "      <td>17.08732</td>\n",
       "      <td>16.80125</td>\n",
       "      <td>752</td>\n",
       "      <td>4</td>\n",
       "      <td>268</td>\n",
       "      <td>3.232740e+17</td>\n",
       "      <td>0.123111</td>\n",
       "      <td>287</td>\n",
       "      <td>52023</td>\n",
       "      <td>513</td>\n",
       "      <td>1</td>\n",
       "    </tr>\n",
       "    <tr>\n",
       "      <th>3</th>\n",
       "      <td>183.870529</td>\n",
       "      <td>0.049911</td>\n",
       "      <td>17.76536</td>\n",
       "      <td>16.60272</td>\n",
       "      <td>16.16116</td>\n",
       "      <td>15.98233</td>\n",
       "      <td>15.90438</td>\n",
       "      <td>752</td>\n",
       "      <td>4</td>\n",
       "      <td>269</td>\n",
       "      <td>3.722370e+18</td>\n",
       "      <td>-0.000111</td>\n",
       "      <td>3306</td>\n",
       "      <td>54922</td>\n",
       "      <td>510</td>\n",
       "      <td>3</td>\n",
       "    </tr>\n",
       "    <tr>\n",
       "      <th>4</th>\n",
       "      <td>183.883288</td>\n",
       "      <td>0.102557</td>\n",
       "      <td>17.55025</td>\n",
       "      <td>16.26342</td>\n",
       "      <td>16.43869</td>\n",
       "      <td>16.55492</td>\n",
       "      <td>16.61326</td>\n",
       "      <td>752</td>\n",
       "      <td>4</td>\n",
       "      <td>269</td>\n",
       "      <td>3.722370e+18</td>\n",
       "      <td>0.000590</td>\n",
       "      <td>3306</td>\n",
       "      <td>54922</td>\n",
       "      <td>512</td>\n",
       "      <td>3</td>\n",
       "    </tr>\n",
       "    <tr>\n",
       "      <th>...</th>\n",
       "      <td>...</td>\n",
       "      <td>...</td>\n",
       "      <td>...</td>\n",
       "      <td>...</td>\n",
       "      <td>...</td>\n",
       "      <td>...</td>\n",
       "      <td>...</td>\n",
       "      <td>...</td>\n",
       "      <td>...</td>\n",
       "      <td>...</td>\n",
       "      <td>...</td>\n",
       "      <td>...</td>\n",
       "      <td>...</td>\n",
       "      <td>...</td>\n",
       "      <td>...</td>\n",
       "      <td>...</td>\n",
       "    </tr>\n",
       "    <tr>\n",
       "      <th>9995</th>\n",
       "      <td>131.316413</td>\n",
       "      <td>51.539547</td>\n",
       "      <td>18.81777</td>\n",
       "      <td>17.47053</td>\n",
       "      <td>16.91508</td>\n",
       "      <td>16.68305</td>\n",
       "      <td>16.50570</td>\n",
       "      <td>1345</td>\n",
       "      <td>3</td>\n",
       "      <td>161</td>\n",
       "      <td>5.033450e+17</td>\n",
       "      <td>0.027583</td>\n",
       "      <td>447</td>\n",
       "      <td>51877</td>\n",
       "      <td>246</td>\n",
       "      <td>1</td>\n",
       "    </tr>\n",
       "    <tr>\n",
       "      <th>9996</th>\n",
       "      <td>131.306083</td>\n",
       "      <td>51.671341</td>\n",
       "      <td>18.27255</td>\n",
       "      <td>17.43849</td>\n",
       "      <td>17.07692</td>\n",
       "      <td>16.71661</td>\n",
       "      <td>16.69897</td>\n",
       "      <td>1345</td>\n",
       "      <td>3</td>\n",
       "      <td>162</td>\n",
       "      <td>5.033400e+17</td>\n",
       "      <td>0.117772</td>\n",
       "      <td>447</td>\n",
       "      <td>51877</td>\n",
       "      <td>228</td>\n",
       "      <td>1</td>\n",
       "    </tr>\n",
       "    <tr>\n",
       "      <th>9997</th>\n",
       "      <td>131.552562</td>\n",
       "      <td>51.666986</td>\n",
       "      <td>18.75818</td>\n",
       "      <td>17.77784</td>\n",
       "      <td>17.51872</td>\n",
       "      <td>17.43302</td>\n",
       "      <td>17.42048</td>\n",
       "      <td>1345</td>\n",
       "      <td>3</td>\n",
       "      <td>162</td>\n",
       "      <td>8.222620e+18</td>\n",
       "      <td>-0.000402</td>\n",
       "      <td>7303</td>\n",
       "      <td>57013</td>\n",
       "      <td>622</td>\n",
       "      <td>3</td>\n",
       "    </tr>\n",
       "    <tr>\n",
       "      <th>9998</th>\n",
       "      <td>131.477151</td>\n",
       "      <td>51.753068</td>\n",
       "      <td>18.88287</td>\n",
       "      <td>17.91068</td>\n",
       "      <td>17.53152</td>\n",
       "      <td>17.36284</td>\n",
       "      <td>17.13988</td>\n",
       "      <td>1345</td>\n",
       "      <td>3</td>\n",
       "      <td>163</td>\n",
       "      <td>5.033400e+17</td>\n",
       "      <td>0.014019</td>\n",
       "      <td>447</td>\n",
       "      <td>51877</td>\n",
       "      <td>229</td>\n",
       "      <td>1</td>\n",
       "    </tr>\n",
       "    <tr>\n",
       "      <th>9999</th>\n",
       "      <td>131.665012</td>\n",
       "      <td>51.805307</td>\n",
       "      <td>19.27586</td>\n",
       "      <td>17.37829</td>\n",
       "      <td>16.30542</td>\n",
       "      <td>15.83548</td>\n",
       "      <td>15.50588</td>\n",
       "      <td>1345</td>\n",
       "      <td>3</td>\n",
       "      <td>163</td>\n",
       "      <td>5.033410e+17</td>\n",
       "      <td>0.118417</td>\n",
       "      <td>447</td>\n",
       "      <td>51877</td>\n",
       "      <td>233</td>\n",
       "      <td>1</td>\n",
       "    </tr>\n",
       "  </tbody>\n",
       "</table>\n",
       "<p>10000 rows × 16 columns</p>\n",
       "</div>"
      ],
      "text/plain": [
       "              ra        dec         u         g         r         i         z  \\\n",
       "0     183.531326   0.089693  19.47406  17.04240  15.94699  15.50342  15.22531   \n",
       "1     183.598371   0.135285  18.66280  17.21449  16.67637  16.48922  16.39150   \n",
       "2     183.680207   0.126185  19.38298  18.19169  17.47428  17.08732  16.80125   \n",
       "3     183.870529   0.049911  17.76536  16.60272  16.16116  15.98233  15.90438   \n",
       "4     183.883288   0.102557  17.55025  16.26342  16.43869  16.55492  16.61326   \n",
       "...          ...        ...       ...       ...       ...       ...       ...   \n",
       "9995  131.316413  51.539547  18.81777  17.47053  16.91508  16.68305  16.50570   \n",
       "9996  131.306083  51.671341  18.27255  17.43849  17.07692  16.71661  16.69897   \n",
       "9997  131.552562  51.666986  18.75818  17.77784  17.51872  17.43302  17.42048   \n",
       "9998  131.477151  51.753068  18.88287  17.91068  17.53152  17.36284  17.13988   \n",
       "9999  131.665012  51.805307  19.27586  17.37829  16.30542  15.83548  15.50588   \n",
       "\n",
       "       run  camcol  field     specobjid  redshift  plate    mjd  fiberid  \\\n",
       "0      752       4    267  3.722360e+18 -0.000009   3306  54922      491   \n",
       "1      752       4    267  3.638140e+17 -0.000055    323  51615      541   \n",
       "2      752       4    268  3.232740e+17  0.123111    287  52023      513   \n",
       "3      752       4    269  3.722370e+18 -0.000111   3306  54922      510   \n",
       "4      752       4    269  3.722370e+18  0.000590   3306  54922      512   \n",
       "...    ...     ...    ...           ...       ...    ...    ...      ...   \n",
       "9995  1345       3    161  5.033450e+17  0.027583    447  51877      246   \n",
       "9996  1345       3    162  5.033400e+17  0.117772    447  51877      228   \n",
       "9997  1345       3    162  8.222620e+18 -0.000402   7303  57013      622   \n",
       "9998  1345       3    163  5.033400e+17  0.014019    447  51877      229   \n",
       "9999  1345       3    163  5.033410e+17  0.118417    447  51877      233   \n",
       "\n",
       "      class  \n",
       "0         3  \n",
       "1         3  \n",
       "2         1  \n",
       "3         3  \n",
       "4         3  \n",
       "...     ...  \n",
       "9995      1  \n",
       "9996      1  \n",
       "9997      3  \n",
       "9998      1  \n",
       "9999      1  \n",
       "\n",
       "[10000 rows x 16 columns]"
      ]
     },
     "execution_count": 13,
     "metadata": {},
     "output_type": "execute_result"
    }
   ],
   "source": [
    "df"
   ]
  },
  {
   "cell_type": "code",
   "execution_count": 14,
   "metadata": {
    "scrolled": true
   },
   "outputs": [
    {
     "data": {
      "text/plain": [
       "array([[1.83531326e+02, 8.96930300e-02, 1.94740600e+01, ...,\n",
       "        3.30600000e+03, 5.49220000e+04, 4.91000000e+02],\n",
       "       [1.83598371e+02, 1.35285032e-01, 1.86628000e+01, ...,\n",
       "        3.23000000e+02, 5.16150000e+04, 5.41000000e+02],\n",
       "       [1.83680207e+02, 1.26185092e-01, 1.93829800e+01, ...,\n",
       "        2.87000000e+02, 5.20230000e+04, 5.13000000e+02],\n",
       "       ...,\n",
       "       [1.31552562e+02, 5.16669864e+01, 1.87581800e+01, ...,\n",
       "        7.30300000e+03, 5.70130000e+04, 6.22000000e+02],\n",
       "       [1.31477151e+02, 5.17530678e+01, 1.88828700e+01, ...,\n",
       "        4.47000000e+02, 5.18770000e+04, 2.29000000e+02],\n",
       "       [1.31665012e+02, 5.18053075e+01, 1.92758600e+01, ...,\n",
       "        4.47000000e+02, 5.18770000e+04, 2.33000000e+02]])"
      ]
     },
     "execution_count": 14,
     "metadata": {},
     "output_type": "execute_result"
    }
   ],
   "source": [
    "X = df.iloc[:,0:15].values\n",
    "y = df.iloc[:,15].values\n",
    "X"
   ]
  },
  {
   "cell_type": "markdown",
   "metadata": {},
   "source": [
    "#### Particionamos los datos (70% entrenamiento y 30% testeo)"
   ]
  },
  {
   "cell_type": "code",
   "execution_count": 15,
   "metadata": {},
   "outputs": [],
   "source": [
    "X_train, X_test, y_train, y_test = train_test_split(X, y, test_size = .3, random_state=25)\n"
   ]
  },
  {
   "cell_type": "markdown",
   "metadata": {},
   "source": [
    "## Aplicación de Modelos de Aprendizaje"
   ]
  },
  {
   "cell_type": "markdown",
   "metadata": {},
   "source": [
    "### Aplicamos Regresión Logística"
   ]
  },
  {
   "cell_type": "code",
   "execution_count": 16,
   "metadata": {},
   "outputs": [
    {
     "data": {
      "text/plain": [
       "LogisticRegression(C=1.0, class_weight=None, dual=False, fit_intercept=True,\n",
       "                   intercept_scaling=1, l1_ratio=None, max_iter=100,\n",
       "                   multi_class='auto', n_jobs=None, penalty='l2',\n",
       "                   random_state=None, solver='lbfgs', tol=0.0001, verbose=0,\n",
       "                   warm_start=False)"
      ]
     },
     "execution_count": 16,
     "metadata": {},
     "output_type": "execute_result"
    }
   ],
   "source": [
    "LogReg = LogisticRegression()\n",
    "LogReg.fit(X_train, y_train)"
   ]
  },
  {
   "cell_type": "code",
   "execution_count": 17,
   "metadata": {
    "scrolled": true
   },
   "outputs": [
    {
     "name": "stdout",
     "output_type": "stream",
     "text": [
      "coeficientes del modelo: [[0. 0. 0. 0. 0. 0. 0. 0. 0. 0. 0. 0. 0. 0. 0.]\n",
      " [0. 0. 0. 0. 0. 0. 0. 0. 0. 0. 0. 0. 0. 0. 0.]\n",
      " [0. 0. 0. 0. 0. 0. 0. 0. 0. 0. 0. 0. 0. 0. 0.]]\n",
      "intercept: [0. 0. 0.]\n"
     ]
    }
   ],
   "source": [
    "print(\"coeficientes del modelo: \"+str(LogReg.coef_))\n",
    "print(\"intercept: \"+str(LogReg.intercept_))"
   ]
  },
  {
   "cell_type": "code",
   "execution_count": 18,
   "metadata": {},
   "outputs": [
    {
     "data": {
      "text/plain": [
       "array([1, 1, 1, ..., 1, 1, 1])"
      ]
     },
     "execution_count": 18,
     "metadata": {},
     "output_type": "execute_result"
    }
   ],
   "source": [
    "#Predicciones\n",
    "y_pred = LogReg.predict(X_test)\n",
    "y_pred"
   ]
  },
  {
   "cell_type": "code",
   "execution_count": null,
   "metadata": {},
   "outputs": [],
   "source": []
  },
  {
   "cell_type": "code",
   "execution_count": null,
   "metadata": {},
   "outputs": [],
   "source": []
  }
 ],
 "metadata": {
  "kernelspec": {
   "display_name": "Python 3",
   "language": "python",
   "name": "python3"
  },
  "language_info": {
   "codemirror_mode": {
    "name": "ipython",
    "version": 3
   },
   "file_extension": ".py",
   "mimetype": "text/x-python",
   "name": "python",
   "nbconvert_exporter": "python",
   "pygments_lexer": "ipython3",
   "version": "3.7.6"
  }
 },
 "nbformat": 4,
 "nbformat_minor": 4
}
